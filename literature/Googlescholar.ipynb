{
 "cells": [
  {
   "cell_type": "markdown",
   "metadata": {},
   "source": [
    "## This is my code"
   ]
  },
  {
   "cell_type": "markdown",
   "metadata": {},
   "source": [
    "To scrape google scholar"
   ]
  },
  {
   "cell_type": "code",
   "execution_count": 3,
   "metadata": {},
   "outputs": [
    {
     "ename": "StopIteration",
     "evalue": "",
     "output_type": "error",
     "traceback": [
      "\u001b[0;31m---------------------------------------------------------------------------\u001b[0m",
      "\u001b[0;31mStopIteration\u001b[0m                             Traceback (most recent call last)",
      "\u001b[0;32m<ipython-input-3-b1eafe8458c4>\u001b[0m in \u001b[0;36m<module>\u001b[0;34m\u001b[0m\n\u001b[1;32m     24\u001b[0m     \u001b[0msearch_query\u001b[0m \u001b[0;34m=\u001b[0m \u001b[0mscholarly\u001b[0m\u001b[0;34m.\u001b[0m\u001b[0msearch_pubs_query\u001b[0m\u001b[0;34m(\u001b[0m\u001b[0mitem\u001b[0m\u001b[0;34m)\u001b[0m\u001b[0;34m\u001b[0m\u001b[0;34m\u001b[0m\u001b[0m\n\u001b[1;32m     25\u001b[0m     \u001b[0;32mfor\u001b[0m \u001b[0mi\u001b[0m \u001b[0;32min\u001b[0m \u001b[0mrange\u001b[0m\u001b[0;34m(\u001b[0m\u001b[0;36m100\u001b[0m\u001b[0;34m)\u001b[0m\u001b[0;34m:\u001b[0m\u001b[0;34m\u001b[0m\u001b[0;34m\u001b[0m\u001b[0m\n\u001b[0;32m---> 26\u001b[0;31m         \u001b[0mpaper\u001b[0m \u001b[0;34m=\u001b[0m \u001b[0mnext\u001b[0m\u001b[0;34m(\u001b[0m\u001b[0msearch_query\u001b[0m\u001b[0;34m)\u001b[0m\u001b[0;34m\u001b[0m\u001b[0;34m\u001b[0m\u001b[0m\n\u001b[0m\u001b[1;32m     27\u001b[0m         \u001b[0;32mif\u001b[0m \u001b[0;34m(\u001b[0m\u001b[0;34m'url'\u001b[0m \u001b[0;32min\u001b[0m \u001b[0mpaper\u001b[0m\u001b[0;34m.\u001b[0m\u001b[0mbib\u001b[0m\u001b[0;34m)\u001b[0m\u001b[0;34m:\u001b[0m\u001b[0;34m\u001b[0m\u001b[0;34m\u001b[0m\u001b[0m\n\u001b[1;32m     28\u001b[0m             \u001b[0mcurrentresult\u001b[0m \u001b[0;34m=\u001b[0m \u001b[0;34m[\u001b[0m\u001b[0;34m]\u001b[0m\u001b[0;34m\u001b[0m\u001b[0;34m\u001b[0m\u001b[0m\n",
      "\u001b[0;31mStopIteration\u001b[0m: "
     ]
    }
   ],
   "source": [
    "# Google Scholar: https://scholar.google.com/\n",
    "import scholarly\n",
    "import json\n",
    "import csv\n",
    "\n",
    "results = []\n",
    "searchterms = ['cross-border',\n",
    "              'Common Market Law Review',\n",
    "              'cross-border merger',\n",
    "              'cross-border conversion',\n",
    "              'cross-border division',\n",
    "              'company law package',\n",
    "              'SE-Directive',\n",
    "              'SE Directive',\n",
    "              'cross-border mobility',\n",
    "              'economical impact of company mobility',\n",
    "              'Delaware effect',\n",
    "              'cross-border merger inflation', 'cross-border merger GDP','cross-border merger CPI',\n",
    "               'cross-border merger wages','cross-border merger market campitalisation',\n",
    "               'cross-border merger bond yields','cross-border merger transaction costs',\n",
    "               \n",
    "               'cross-border inflation', 'cross-border GDP','cross-border CPI','cross-border wages',\n",
    "               'cross-border market capitalisation','cross-border bond yields','cross-border transaction costs',\n",
    "               \n",
    "               'merger and acquisition inflation','merger and acquisition GDP','merger and acquisition CPI',\n",
    "               'merger and acquisition wages','merger and acquisition market capitalisation',\n",
    "               'merger and acquisition bond yields','merger and acquisition transaction costs',\n",
    "               \n",
    "              'regression analysis',\n",
    "              \"Tobin's Q\"]\n",
    "\n",
    "for item in searchterms:\n",
    "    search_query = scholarly.search_pubs_query(item)\n",
    "    for i in range(30):\n",
    "        paper = next(search_query)\n",
    "        if ('url' in paper.bib):\n",
    "            currentresult = []\n",
    "            currentresult.append(item)\n",
    "            currentresult.append(paper.bib['url'])\n",
    "            currentresult.append(paper.bib['title'])\n",
    "            currentresult.append(paper.bib['abstract'])\n",
    "            results.append(currentresult)\n",
    "        \n",
    "with open('Googlescholar_results.csv', 'w', newline='', encoding='utf-8') as writeFile:\n",
    "    writer = csv.writer(writeFile)\n",
    "    writer.writerows(results)"
   ]
  },
  {
   "cell_type": "code",
   "execution_count": null,
   "metadata": {},
   "outputs": [],
   "source": []
  }
 ],
 "metadata": {
  "kernelspec": {
   "display_name": "Python 3",
   "language": "python",
   "name": "python3"
  },
  "language_info": {
   "codemirror_mode": {
    "name": "ipython",
    "version": 3
   },
   "file_extension": ".py",
   "mimetype": "text/x-python",
   "name": "python",
   "nbconvert_exporter": "python",
   "pygments_lexer": "ipython3",
   "version": "3.7.3"
  },
  "nteract": {
   "version": "0.15.0"
  }
 },
 "nbformat": 4,
 "nbformat_minor": 4
}
