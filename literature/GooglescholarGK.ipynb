{
 "cells": [
  {
   "cell_type": "markdown",
   "metadata": {},
   "source": [
    "## This is my code"
   ]
  },
  {
   "cell_type": "markdown",
   "metadata": {},
   "source": [
    "To scrape google scholar"
   ]
  },
  {
   "cell_type": "code",
   "execution_count": 10,
   "metadata": {},
   "outputs": [],
   "source": [
    "# Google Scholar: https://scholar.google.com/\n",
    "import scholarly\n",
    "import json\n",
    "import csv\n",
    "\n",
    "results = []\n",
    "searchterms = ['cross-border mergers stock price']\n",
    "# and doesn't work, experimenting with terms\n",
    "for item in searchterms:\n",
    "    search_query = scholarly.search_pubs_query(item)\n",
    "    for i in range(30):\n",
    "        paper = next(search_query)\n",
    "        if ('url' in paper.bib):\n",
    "            currentresult = []\n",
    "            currentresult.append(item)\n",
    "            currentresult.append(paper.bib['url'])\n",
    "            currentresult.append(paper.bib['title'])\n",
    "            currentresult.append(paper.bib['abstract'])\n",
    "            results.append(currentresult)\n",
    "        \n",
    "with open('Googlescholar_results.csv', 'w', newline='', encoding='utf-8') as writeFile:\n",
    "    writer = csv.writer(writeFile)\n",
    "    writer.writerows(results)"
   ]
  },
  {
   "cell_type": "code",
   "execution_count": null,
   "metadata": {},
   "outputs": [],
   "source": []
  },
  {
   "cell_type": "code",
   "execution_count": null,
   "metadata": {},
   "outputs": [],
   "source": []
  }
 ],
 "metadata": {
  "kernelspec": {
   "display_name": "Python 3",
   "language": "python",
   "name": "python3"
  },
  "language_info": {
   "codemirror_mode": {
    "name": "ipython",
    "version": 3
   },
   "file_extension": ".py",
   "mimetype": "text/x-python",
   "name": "python",
   "nbconvert_exporter": "python",
   "pygments_lexer": "ipython3",
   "version": "3.7.4"
  },
  "nteract": {
   "version": "0.15.0"
  }
 },
 "nbformat": 4,
 "nbformat_minor": 4
}
