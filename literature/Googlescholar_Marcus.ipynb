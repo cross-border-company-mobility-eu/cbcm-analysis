{
 "cells": [
  {
   "cell_type": "markdown",
   "metadata": {},
   "source": [
    "## Cross-border company mobility Google scholar search"
   ]
  },
  {
   "cell_type": "code",
   "execution_count": 4,
   "metadata": {},
   "outputs": [],
   "source": [
    "# Google Scholar: https://scholar.google.com/\n",
    "import scholarly\n",
    "import json\n",
    "import csv\n",
    "\n",
    "\n",
    "results = []\n",
    "searchterms = [#'\"cross-border company acquisition\"'\n",
    "              #'\"common market law review\"',\n",
    "              #'\"cross-border merger\"',\n",
    "              #'\"cross-border conversion\"',\n",
    "              #'\"cross-border division\"',\n",
    "              #'\"company law package\"',\n",
    "              #'\"SE-Directive\"',\n",
    "              #'\"SE Directive\"',\n",
    "              #'\"cross-border mobility\"',\n",
    "              #'\"economical impact of company mobility\"',\n",
    "              #'\"Delaware effect\"',\n",
    "              #'\"cross-border merger inflation\"', '\"cross-border merger GDP\"','\"cross-border merger CPI\"',\n",
    "               #'\"cross-border merger wages\"','\"cross-border merger market campitalisation\"',\n",
    "               #'\"cross-border merger bond yields\"','\"cross-border merger transaction costs\"',\n",
    "               \n",
    "               #'\"cross-border inflation\"', '\"cross-border GDP\"','\"cross-border CPI\"','\"cross-border wages\"',\n",
    "               #'\"cross-border market capitalisation\"','\"cross-border bond yields\"','\"cross-border transaction costs\"',\n",
    "               \n",
    "               #'\"merger and acquisition inflation\"','\"merger and acquisition GDP\"','\"merger and acquisition CPI\"',\n",
    "               #'\"merger and acquisition wages\"','\"merger and acquisition market capitalisation\"',\n",
    "               #'\"merger and acquisition bond yields\"','\"merger and acquisition transaction costs\"',\n",
    "               \n",
    "              #'\"cross-border regression analysis\"',\n",
    "              #''\"cross-border Tobin's Q\"''\n",
    "                ]\n",
    "\n",
    "for item in searchterms:\n",
    "    search_query = scholarly.search_pubs_query(item)\n",
    "    for i in range(20):\n",
    "        paper = next(search_query)\n",
    "        if ('url' in paper.bib) & ('abstract' in paper.bib):\n",
    "            currentresult = []\n",
    "            currentresult.append(item)\n",
    "            currentresult.append(paper.bib['url'])\n",
    "            currentresult.append(paper.bib['title'])\n",
    "            currentresult.append(paper.bib['abstract'])\n",
    "            results.append(currentresult)\n",
    "        \n",
    "with open('Googlescholar_results.csv', 'w', newline='', encoding='utf-8') as writeFile:\n",
    "    writer = csv.writer(writeFile)\n",
    "    writer.writerows(results)"
   ]
  },
  {
   "cell_type": "code",
   "execution_count": 2,
   "metadata": {},
   "outputs": [
    {
     "name": "stdout",
     "output_type": "stream",
     "text": [
      "{'_filled': False,\n",
      " 'bib': {'abstract': '… in both ItalianandEnglish,and400 com- panies that had '\n",
      "                     'engaged in cross-border\\n'\n",
      "                     'acquisitionactivityin Italybetween … which one of the '\n",
      "                     'partners- eitherthe acquirer or the target\\n'\n",
      "                     'company - was Italian … no business or functional '\n",
      "                     'changes in any of the merging companies … \\n',\n",
      "         'author': 'P Morosini and S Shane and H Singh',\n",
      "         'title': 'National cultural distance and cross-border acquisition '\n",
      "                  'performance',\n",
      "         'url': 'https://link.springer.com/article/10.1057/palgrave.jibs.8490029'},\n",
      " 'source': 'scholar'}\n"
     ]
    }
   ],
   "source": [
    "import scholarly\n",
    "item = \"cross-border company acquisition\"\n",
    "search_query = scholarly.search_pubs_query(item)\n",
    "paper = next(search_query)\n",
    "print(paper)"
   ]
  },
  {
   "cell_type": "code",
   "execution_count": null,
   "metadata": {},
   "outputs": [],
   "source": []
  }
 ],
 "metadata": {
  "kernelspec": {
   "display_name": "Python 3",
   "language": "python",
   "name": "python3"
  },
  "language_info": {
   "codemirror_mode": {
    "name": "ipython",
    "version": 3
   },
   "file_extension": ".py",
   "mimetype": "text/x-python",
   "name": "python",
   "nbconvert_exporter": "python",
   "pygments_lexer": "ipython3",
   "version": "3.7.4"
  },
  "nteract": {
   "version": "0.15.0"
  }
 },
 "nbformat": 4,
 "nbformat_minor": 4
}
