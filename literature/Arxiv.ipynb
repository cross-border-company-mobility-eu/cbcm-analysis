{
 "cells": [
  {
   "cell_type": "code",
   "execution_count": 6,
   "metadata": {},
   "outputs": [],
   "source": [
    "# Arxiv: https://arxiv.org/\n",
    "import arxiv\n",
    "import csv\n",
    "\n",
    "results = []\n",
    "searchterms = ['cross-border',\n",
    "             'Common Market Law Review',\n",
    "             'cross-border merger',\n",
    "             'cross-border conversion',\n",
    "             'cross-border division',\n",
    "             'company law package']\n",
    "\n",
    "for item in searchterms:\n",
    "    result = arxiv.query(query=item, max_results=100)\n",
    "    for paper in result:\n",
    "        if ('cs' in paper['arxiv_primary_category']['term']):\n",
    "            currentresult = []\n",
    "            currentresult.append(item)\n",
    "            currentresult.append(paper['id'])\n",
    "            currentresult.append(paper['title'])\n",
    "            currentresult.append(paper['summary'])\n",
    "            currentresult.append(paper['journal_reference'])\n",
    "\n",
    "            results.append(currentresult)\n",
    "        \n",
    "with open('Arxiv_results_GK.csv', 'w', newline='') as writeFile:\n",
    "    writer = csv.writer(writeFile)\n",
    "    writer.writerows(results)"
   ]
  },
  {
   "cell_type": "code",
   "execution_count": null,
   "metadata": {},
   "outputs": [],
   "source": []
  }
 ],
 "metadata": {
  "kernelspec": {
   "display_name": "Python 3",
   "language": "python",
   "name": "python3"
  },
  "language_info": {
   "codemirror_mode": {
    "name": "ipython",
    "version": 3
   },
   "file_extension": ".py",
   "mimetype": "text/x-python",
   "name": "python",
   "nbconvert_exporter": "python",
   "pygments_lexer": "ipython3",
   "version": "3.7.4"
  }
 },
 "nbformat": 4,
 "nbformat_minor": 4
}
